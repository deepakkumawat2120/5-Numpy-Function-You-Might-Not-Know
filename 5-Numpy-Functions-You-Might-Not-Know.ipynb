{
 "cells": [
  {
   "cell_type": "markdown",
   "id": "42b46419",
   "metadata": {},
   "source": [
    "# 5 NumPy Functions You Might Not Know.\n"
   ]
  },
  {
   "cell_type": "markdown",
   "id": "6c772abb",
   "metadata": {},
   "source": [
    "## Well Let's First Understand What is NumPy?"
   ]
  },
  {
   "cell_type": "markdown",
   "id": "cbd8a370",
   "metadata": {},
   "source": [
    "![](https://www.machinelearningplus.com/wp-content/uploads/2021/10/Numpy_Feature_Image-min.png)"
   ]
  },
  {
   "cell_type": "markdown",
   "id": "66ea2b1e",
   "metadata": {},
   "source": [
    "- NumPy is a Python Package Which Stands for \"Numerical Python\".\n",
    "- This was Created in 2005 by Travis Oliphant.\n",
    "- NumPy is Often Called as an Alternative For MatLab(a Programming Platform Designed Specifically For Engineers, and Scientists For Data Analysis, Developing Algorithm, Create Models and Application etc).\n",
    "- Numpy is Used With Packages Like Scipy(Scientific Python) and Mat-Plotlib(Plotting Library) and This Makes it Capable to Replace MATLAB.\n"
   ]
  },
  {
   "cell_type": "markdown",
   "id": "e173f7ce",
   "metadata": {},
   "source": [
    "- Using NumPy We Can Perform the Following Functionalities:\n",
    "  1. Mathematical and Logical Calculations Array.\n",
    "  2. Fourier Transforms and Routines for Shape Manipulation.\n",
    "  3. It has Built in Functions For Linear Algebra Random Number Generation.\n",
    "  4. Used For Scientific Calculations.\n",
    "  5. It is Faster Than Python List.\n",
    "  6. It is Faster Because It is Associated With C or C++ Language."
   ]
  },
  {
   "cell_type": "markdown",
   "id": "64c5aab7",
   "metadata": {},
   "source": [
    "![](https://techvidvan.com/tutorials/wp-content/uploads/sites/2/2020/07/Uses-of-NumPy-1.jpg)\n",
    "  "
   ]
  },
  {
   "cell_type": "markdown",
   "id": "7c3c76e6",
   "metadata": {},
   "source": [
    "## Let's Dive into some Practical Applications Where NumPy Has Used :"
   ]
  },
  {
   "cell_type": "markdown",
   "id": "507be88a",
   "metadata": {},
   "source": [
    "### FIRST IMAGE OF A BLACK HOLE\n",
    "![](https://numpy.org/images/content_images/cs/blackhole.jpg)\n",
    "\n",
    "##### Role OF NumPy:\n",
    "The eht-imaging Python package provides tools for simulating and performing image reconstruction on VLBI data. NumPy is at the core of array data processing used in this package.\n",
    "\n",
    "The efficient and adaptable n-dimensional array that is NumPy’s central feature enabled researchers to manipulate large numerical datasets, providing a foundation for the first-ever image of a black hole. A landmark moment in science, it gives stunning visual evidence of Einstein’s theory. \n",
    "\n"
   ]
  },
  {
   "cell_type": "markdown",
   "id": "d68453a8",
   "metadata": {},
   "source": [
    "### NUMPY’S ROLE IN THE DETECTION OF GRAVITATIONAL WAVES\n",
    "![](https://numpy.org/images/content_images/cs/gw_sxs_image.png)\n",
    "\n",
    "##### Role OF NumPy:\n",
    "Gravitational waves emitted from the merger cannot be computed using any technique except brute force numerical relativity using supercomputers. The amount of data LIGO collects is as incomprehensibly large as gravitational wave signals are small.\n",
    "\n",
    "NumPy, the standard numerical analysis package for Python, was utilized by the software used for various tasks performed during the GW detection project at LIGO. NumPy helped in solving complex maths and data manipulation at high speed. Here are some examples:\n",
    "\n",
    "- Signal Processing: Glitch detection, Noise identification and Data Characterization (NumPy, scikit-learn, scipy, matplotlib, pandas, pyCharm)\n",
    "- Data retrieval: Deciding which data can be analyzed, figuring out whether it contains a signal - needle in a haystack\n",
    "- Statistical analysis: estimate the statistical significance of observational data, estimating the signal parameters (e.g. masses of stars, spin velocity, and distance) by comparison with a model.\n",
    "- Visualization of data\n",
    "  (Time series and\n",
    "  Spectrograms)\n",
    "- Compute Correlations\n",
    "- Key Software developed in GW data analysis such as GwPy and PyCBC uses NumPy and AstroPy under the hood for providing object based interfaces to utilities, tools, and methods for studying data from gravitational-wave detectors."
   ]
  },
  {
   "cell_type": "markdown",
   "id": "38399b12",
   "metadata": {},
   "source": [
    "### CRICKET ANALYTICS\n",
    "![](https://numpy.org/images/content_images/cs/ipl-stadium.png)\n",
    "\n",
    "##### Role Of NumPy\n",
    "Sports Analytics is a thriving field. Many researchers and companies use NumPy and other PyData packages like Scikit-learn, SciPy, Matplotlib, and Jupyter, besides using the latest machine learning and AI techniques. NumPy has been used for various kinds of cricket related sporting analytics such as:\n",
    "\n",
    "- **Statistical Analysis**: NumPy’s numerical capabilities help estimate the statistical significance of observational data or match events in the context of various player and game tactics, estimating the game outcome by comparison with a generative or static model. Causal analysis and big data approaches are used for tactical analysis.\n",
    "\n",
    "- __Data Visualization__: Data graphing and visualization provide useful insights into relationship between various datasets."
   ]
  },
  {
   "cell_type": "markdown",
   "id": "02c813f4",
   "metadata": {},
   "source": [
    "## Now Let's Talk About The Functions Which We Are Going To Discuss."
   ]
  },
  {
   "cell_type": "markdown",
   "id": "5d512fb9",
   "metadata": {},
   "source": [
    "- numpy.linalg.det - It Computes the Determinant of an Array.\n",
    "- numpy.linalg.eig - It Computes the Eigenvalues and Right Eigenvectors of a Square Array.\n",
    "- numpy.cumsum - It Gives the Commutative Sum of the Elements Along a Given Axis.\n",
    "- numpy.cumprod - It Gives the Commutative Product of Element Along a Given Axis.\n",
    "- numpy.matmul - It Gives the Matrix Product of Two Arrays.\n",
    "\n",
    "The recommended way to run this notebook is to click the \"Run\" button at the top of this page, and select \"Run on Binder\". This will run the notebook on mybinder.org, a free online service for running Jupyter notebooks."
   ]
  },
  {
   "cell_type": "markdown",
   "id": "f8838e1d",
   "metadata": {},
   "source": [
    "###### Note : We will use the `Jovian` library and its `commit()` function throughout the code to save our progress as we move along."
   ]
  },
  {
   "cell_type": "code",
   "execution_count": 1,
   "id": "afb758ff",
   "metadata": {},
   "outputs": [
    {
     "data": {
      "application/javascript": [
       "window.require && require([\"base/js/namespace\"],function(Jupyter){Jupyter.notebook.save_checkpoint()})"
      ],
      "text/plain": [
       "<IPython.core.display.Javascript object>"
      ]
     },
     "metadata": {},
     "output_type": "display_data"
    },
    {
     "name": "stdout",
     "output_type": "stream",
     "text": [
      "[jovian] Updating notebook \"deepakkumawat2120/5-numpy-functions-you-might-not-know\" on https://jovian.ai\u001b[0m\n",
      "[jovian] Committed successfully! https://jovian.ai/deepakkumawat2120/5-numpy-functions-you-might-not-know\u001b[0m\n"
     ]
    },
    {
     "data": {
      "text/plain": [
       "'https://jovian.ai/deepakkumawat2120/5-numpy-functions-you-might-not-know'"
      ]
     },
     "execution_count": 1,
     "metadata": {},
     "output_type": "execute_result"
    }
   ],
   "source": [
    "!pip install jovian --upgrade -q\n",
    "\n",
    "import jovian\n",
    "\n",
    "jovian.commit(project='5 NumPy Functions You Might Not Know.')"
   ]
  },
  {
   "cell_type": "markdown",
   "id": "0e639879",
   "metadata": {},
   "source": [
    "Let's begin by importing Numpy and listing out the functions covered in this notebook."
   ]
  },
  {
   "cell_type": "code",
   "execution_count": 2,
   "id": "1f80b557",
   "metadata": {},
   "outputs": [],
   "source": [
    "import numpy as np"
   ]
  },
  {
   "cell_type": "markdown",
   "id": "f14cbc77",
   "metadata": {},
   "source": [
    "## Function 1 - numpy.linalg.det\n",
    "\n",
    "#### numpy.linalg.det - It Computes the Determinant of an Array.\n",
    "\n",
    "*Syntax: numpy.linalg.det()* \n",
    "\n",
    "*Parameter: An square array.*\n",
    "\n",
    "*Return: The determinant of that square array* \n"
   ]
  },
  {
   "cell_type": "markdown",
   "id": "d74432c0",
   "metadata": {},
   "source": [
    "![](https://slidetodoc.com/presentation_image_h2/80afd8549109e72c2c9d126a685906f5/image-13.jpg )"
   ]
  },
  {
   "cell_type": "code",
   "execution_count": 3,
   "id": "9cc62b3e",
   "metadata": {},
   "outputs": [
    {
     "name": "stdout",
     "output_type": "stream",
     "text": [
      "Numpy Matrix is:\n",
      "[[1 2]\n",
      " [3 4]]\n",
      "Determinant of given 2X2 square matrix:\n",
      "-2\n"
     ]
    }
   ],
   "source": [
    "# Example 1 - working\n",
    "\n",
    "# creating a 2X2 Numpy matrix\n",
    "n_array = np.array([[1,2],\n",
    "              [3,4]])\n",
    "# Displaying the array\n",
    "print(\"Numpy Matrix is:\")\n",
    "print(n_array)\n",
    "\n",
    "# Calculating the determinant of matrix\n",
    "result =  np.linalg.det(n_array)\n",
    "\n",
    "print(\"Determinant of given 2X2 square matrix:\")\n",
    "print(int(result))"
   ]
  },
  {
   "cell_type": "markdown",
   "id": "6254e2f7",
   "metadata": {},
   "source": [
    "Here We First Take a `2x2` Matrix and Create a NumPy Array of That Matrix, Assign That to Variable \"n_array\", Then We Use the Function `np.linalg.det` to Compute the Determinant of \"n_array\", Which gives us `-2` as the Determinant."
   ]
  },
  {
   "cell_type": "code",
   "execution_count": 4,
   "id": "f8e20544",
   "metadata": {},
   "outputs": [
    {
     "name": "stdout",
     "output_type": "stream",
     "text": [
      "Numpy Matrix is:\n",
      "[[55 25 15]\n",
      " [30 44  2]\n",
      " [11 45 77]]\n",
      "\n",
      "Determinant of given 3X3 square matrix:\n",
      "137180\n"
     ]
    }
   ],
   "source": [
    "# Example 2 - working\n",
    "\n",
    "# creating a 3X3 Numpy matrix\n",
    "n_array = np.array([[55, 25, 15],\n",
    "                    [30, 44, 2],\n",
    "                    [11, 45, 77]])\n",
    "  \n",
    "# Displaying the Matrix\n",
    "print(\"Numpy Matrix is:\")\n",
    "print(n_array)\n",
    "  \n",
    "# calculating the determinant of matrix\n",
    "det = np.linalg.det(n_array)\n",
    "  \n",
    "print(\"\\nDeterminant of given 3X3 square matrix:\")\n",
    "print(int(det))"
   ]
  },
  {
   "cell_type": "markdown",
   "id": "cceb80c9",
   "metadata": {},
   "source": [
    "Here We First Take a `3x3` Matrix and Create a NumPy array of it, Assign That Value to a Variable Called `n_array`, Then Compute the Determinant of That \"n_array\", Store That in `det` Variable and Print the Result.  "
   ]
  },
  {
   "cell_type": "code",
   "execution_count": 5,
   "id": "58e79c9d",
   "metadata": {},
   "outputs": [
    {
     "name": "stdout",
     "output_type": "stream",
     "text": [
      "Numpy Matrix is:\n",
      "[[ 5  2  1  4  6]\n",
      " [ 9  4  2  5  2]\n",
      " [11  5  7  3  9]\n",
      " [ 5  6  6  7  2]\n",
      " [ 7  5  9  3  3]]\n",
      "\n",
      "Determinant of given 5X5 square matrix:\n",
      "-2003\n"
     ]
    }
   ],
   "source": [
    "# Example-3  - working\n",
    "\n",
    "# creating a 5X5 Numpy matrix\n",
    "n_array = np.array([[5, 2, 1, 4, 6],\n",
    "                    [9, 4, 2, 5, 2],\n",
    "                    [11, 5, 7, 3, 9],\n",
    "                    [5, 6, 6, 7, 2],\n",
    "                    [7, 5, 9, 3, 3]])\n",
    "  \n",
    "# Displaying the Matrix\n",
    "print(\"Numpy Matrix is:\")\n",
    "print(n_array)\n",
    "  \n",
    "# calculating the determinant of matrix\n",
    "det = np.linalg.det(n_array)\n",
    "  \n",
    "print(\"\\nDeterminant of given 5X5 square matrix:\")\n",
    "print(int(det))"
   ]
  },
  {
   "cell_type": "markdown",
   "id": "a1532540",
   "metadata": {},
   "source": [
    "Here We have Taken Another Example of a `5X5` Matrix and Compute the Determinant of That Matrix."
   ]
  },
  {
   "cell_type": "markdown",
   "id": "ce8070da",
   "metadata": {},
   "source": [
    "##### Example 4- breaking"
   ]
  },
  {
   "cell_type": "code",
   "execution_count": 6,
   "id": "a774eb8e",
   "metadata": {},
   "outputs": [
    {
     "name": "stdout",
     "output_type": "stream",
     "text": [
      "Numpy Matrix is:\n",
      "[list([2]) list([3, 4])]\n"
     ]
    },
    {
     "name": "stderr",
     "output_type": "stream",
     "text": [
      "/tmp/ipykernel_35/791310156.py:2: VisibleDeprecationWarning: Creating an ndarray from ragged nested sequences (which is a list-or-tuple of lists-or-tuples-or ndarrays with different lengths or shapes) is deprecated. If you meant to do this, you must specify 'dtype=object' when creating the ndarray.\n",
      "  n_array = np.array([[2],\n"
     ]
    },
    {
     "ename": "LinAlgError",
     "evalue": "1-dimensional array given. Array must be at least two-dimensional",
     "output_type": "error",
     "traceback": [
      "\u001b[0;31m---------------------------------------------------------------------------\u001b[0m",
      "\u001b[0;31mLinAlgError\u001b[0m                               Traceback (most recent call last)",
      "\u001b[0;32m/tmp/ipykernel_35/791310156.py\u001b[0m in \u001b[0;36m<module>\u001b[0;34m\u001b[0m\n\u001b[1;32m      7\u001b[0m \u001b[0;34m\u001b[0m\u001b[0m\n\u001b[1;32m      8\u001b[0m \u001b[0;31m# Calculating the determinant of matrix\u001b[0m\u001b[0;34m\u001b[0m\u001b[0;34m\u001b[0m\u001b[0;34m\u001b[0m\u001b[0m\n\u001b[0;32m----> 9\u001b[0;31m \u001b[0mresult\u001b[0m \u001b[0;34m=\u001b[0m  \u001b[0mnp\u001b[0m\u001b[0;34m.\u001b[0m\u001b[0mlinalg\u001b[0m\u001b[0;34m.\u001b[0m\u001b[0mdet\u001b[0m\u001b[0;34m(\u001b[0m\u001b[0mn_array\u001b[0m\u001b[0;34m)\u001b[0m\u001b[0;34m\u001b[0m\u001b[0;34m\u001b[0m\u001b[0m\n\u001b[0m\u001b[1;32m     10\u001b[0m \u001b[0;34m\u001b[0m\u001b[0m\n\u001b[1;32m     11\u001b[0m \u001b[0mprint\u001b[0m\u001b[0;34m(\u001b[0m\u001b[0;34m\"Determinant of given 2X2 square matrix:\"\u001b[0m\u001b[0;34m)\u001b[0m\u001b[0;34m\u001b[0m\u001b[0;34m\u001b[0m\u001b[0m\n",
      "\u001b[0;32m<__array_function__ internals>\u001b[0m in \u001b[0;36mdet\u001b[0;34m(*args, **kwargs)\u001b[0m\n",
      "\u001b[0;32m/opt/conda/lib/python3.9/site-packages/numpy/linalg/linalg.py\u001b[0m in \u001b[0;36mdet\u001b[0;34m(a)\u001b[0m\n\u001b[1;32m   2152\u001b[0m     \"\"\"\n\u001b[1;32m   2153\u001b[0m     \u001b[0ma\u001b[0m \u001b[0;34m=\u001b[0m \u001b[0masarray\u001b[0m\u001b[0;34m(\u001b[0m\u001b[0ma\u001b[0m\u001b[0;34m)\u001b[0m\u001b[0;34m\u001b[0m\u001b[0;34m\u001b[0m\u001b[0m\n\u001b[0;32m-> 2154\u001b[0;31m     \u001b[0m_assert_stacked_2d\u001b[0m\u001b[0;34m(\u001b[0m\u001b[0ma\u001b[0m\u001b[0;34m)\u001b[0m\u001b[0;34m\u001b[0m\u001b[0;34m\u001b[0m\u001b[0m\n\u001b[0m\u001b[1;32m   2155\u001b[0m     \u001b[0m_assert_stacked_square\u001b[0m\u001b[0;34m(\u001b[0m\u001b[0ma\u001b[0m\u001b[0;34m)\u001b[0m\u001b[0;34m\u001b[0m\u001b[0;34m\u001b[0m\u001b[0m\n\u001b[1;32m   2156\u001b[0m     \u001b[0mt\u001b[0m\u001b[0;34m,\u001b[0m \u001b[0mresult_t\u001b[0m \u001b[0;34m=\u001b[0m \u001b[0m_commonType\u001b[0m\u001b[0;34m(\u001b[0m\u001b[0ma\u001b[0m\u001b[0;34m)\u001b[0m\u001b[0;34m\u001b[0m\u001b[0;34m\u001b[0m\u001b[0m\n",
      "\u001b[0;32m/opt/conda/lib/python3.9/site-packages/numpy/linalg/linalg.py\u001b[0m in \u001b[0;36m_assert_stacked_2d\u001b[0;34m(*arrays)\u001b[0m\n\u001b[1;32m    194\u001b[0m     \u001b[0;32mfor\u001b[0m \u001b[0ma\u001b[0m \u001b[0;32min\u001b[0m \u001b[0marrays\u001b[0m\u001b[0;34m:\u001b[0m\u001b[0;34m\u001b[0m\u001b[0;34m\u001b[0m\u001b[0m\n\u001b[1;32m    195\u001b[0m         \u001b[0;32mif\u001b[0m \u001b[0ma\u001b[0m\u001b[0;34m.\u001b[0m\u001b[0mndim\u001b[0m \u001b[0;34m<\u001b[0m \u001b[0;36m2\u001b[0m\u001b[0;34m:\u001b[0m\u001b[0;34m\u001b[0m\u001b[0;34m\u001b[0m\u001b[0m\n\u001b[0;32m--> 196\u001b[0;31m             raise LinAlgError('%d-dimensional array given. Array must be '\n\u001b[0m\u001b[1;32m    197\u001b[0m                     'at least two-dimensional' % a.ndim)\n\u001b[1;32m    198\u001b[0m \u001b[0;34m\u001b[0m\u001b[0m\n",
      "\u001b[0;31mLinAlgError\u001b[0m: 1-dimensional array given. Array must be at least two-dimensional"
     ]
    }
   ],
   "source": [
    "# creating a 2X2 Numpy matrix\n",
    "n_array = np.array([[2],\n",
    "              [3,4]])\n",
    "# Displaying the array\n",
    "print(\"Numpy Matrix is:\")\n",
    "print(n_array)\n",
    "\n",
    "# Calculating the determinant of matrix\n",
    "result =  np.linalg.det(n_array)\n",
    "\n",
    "print(\"Determinant of given 2X2 square matrix:\")\n",
    "print(int(result))"
   ]
  },
  {
   "cell_type": "markdown",
   "id": "48278981",
   "metadata": {},
   "source": [
    "##### How to resolve it- \n",
    "\n",
    "Here We got an Error That we have given a 1-Dimensional Array, So Resolve This Issue We Must take an Square array as we Have Done in The Above Examples.\n"
   ]
  },
  {
   "cell_type": "markdown",
   "id": "9af00a90",
   "metadata": {},
   "source": [
    "numpy.linalg.det is a very useful function and it Can be used anywhere to compute the `Determinant` of a square Array."
   ]
  },
  {
   "cell_type": "code",
   "execution_count": 5,
   "id": "3307567e",
   "metadata": {},
   "outputs": [
    {
     "data": {
      "application/javascript": [
       "window.require && require([\"base/js/namespace\"],function(Jupyter){Jupyter.notebook.save_checkpoint()})"
      ],
      "text/plain": [
       "<IPython.core.display.Javascript object>"
      ]
     },
     "metadata": {},
     "output_type": "display_data"
    },
    {
     "name": "stdout",
     "output_type": "stream",
     "text": [
      "[jovian] Updating notebook \"deepakkumawat2120/5-numpy-functions-you-might-not-know\" on https://jovian.ai\u001b[0m\n",
      "[jovian] Committed successfully! https://jovian.ai/deepakkumawat2120/5-numpy-functions-you-might-not-know\u001b[0m\n"
     ]
    },
    {
     "data": {
      "text/plain": [
       "'https://jovian.ai/deepakkumawat2120/5-numpy-functions-you-might-not-know'"
      ]
     },
     "execution_count": 5,
     "metadata": {},
     "output_type": "execute_result"
    }
   ],
   "source": [
    "jovian.commit()"
   ]
  },
  {
   "cell_type": "markdown",
   "id": "e03fdbda",
   "metadata": {},
   "source": [
    "## Function 2 - numpy.linalg.eig\n",
    "\n",
    "#### numpy.linalg.eig - It Computes the Determinant of an Array.\n",
    "\n",
    "*Syntax: numpy.linalg.eig()* \n",
    "\n",
    "*Parameter: An square array.*\n",
    "\n",
    "*Return: It will return two values first is eigenvalues and second is eigenvectors.*"
   ]
  },
  {
   "cell_type": "code",
   "execution_count": 8,
   "id": "544bfb3b",
   "metadata": {},
   "outputs": [
    {
     "name": "stdout",
     "output_type": "stream",
     "text": [
      "[[ 1 -2]\n",
      " [ 1  3]]\n",
      "\n",
      "[2.+1.j 2.-1.j]\n",
      "\n",
      "[[ 0.81649658+0.j          0.81649658-0.j        ]\n",
      " [-0.40824829-0.40824829j -0.40824829+0.40824829j]]\n"
     ]
    }
   ],
   "source": [
    "# Example 1 - working\n",
    "\n",
    "mat = np.mat(\"1 -2;1 3\")\n",
    "  \n",
    "# Original matrix\n",
    "print(mat)\n",
    "print(\"\")\n",
    "evalue, evect = np.linalg.eig(mat)\n",
    "  \n",
    "# Eigenvalues of the said matrix\"\n",
    "print(evalue)\n",
    "print(\"\")\n",
    "  \n",
    "# Eigenvectors of the said matrix\n",
    "print(evect)"
   ]
  },
  {
   "cell_type": "markdown",
   "id": "8eddd44a",
   "metadata": {},
   "source": [
    "In the Example 1, We have Taken a Square Array using `np.mat` function and assign That to \"mat\" Variable and the we have used `np.lianalg.eig` function to compute the `eigen` value but this function given us the `eig value and eigen vector` which we have taken in the variable \"evalue and evector\" respectively, and print those eigen values and eigen Functions."
   ]
  },
  {
   "cell_type": "code",
   "execution_count": 9,
   "id": "205d0cfa",
   "metadata": {
    "scrolled": false
   },
   "outputs": [
    {
     "name": "stdout",
     "output_type": "stream",
     "text": [
      "[[1 2 3]\n",
      " [1 3 4]\n",
      " [3 2 1]]\n",
      "\n",
      "[ 6.70156212  0.29843788 -2.        ]\n",
      "\n",
      "[[-0.5113361  -0.42932334 -0.40482045]\n",
      " [-0.69070311  0.7945835  -0.52048344]\n",
      " [-0.5113361  -0.42932334  0.75180941]]\n"
     ]
    }
   ],
   "source": [
    "# Example 2 - working\n",
    "\n",
    "mat = np.mat(\"1 2 3;1 3 4;3 2 1\")\n",
    "  \n",
    "# Original matrix\n",
    "print(mat)\n",
    "print(\"\")\n",
    "evalue, evect = np.linalg.eig(mat)\n",
    "  \n",
    "# Eigenvalues of the said matrix\"\n",
    "print(evalue)\n",
    "print(\"\")\n",
    "  \n",
    "# Eigenvectors of the said matrix\n",
    "print(evect)"
   ]
  },
  {
   "cell_type": "markdown",
   "id": "c8a34b16",
   "metadata": {},
   "source": [
    "Here is another Example of computing the `Eigen values and Eigen vectors` of a square array of `3x3`."
   ]
  },
  {
   "cell_type": "markdown",
   "id": "b19f7908",
   "metadata": {},
   "source": [
    "##### Example 3 - Breaking"
   ]
  },
  {
   "cell_type": "code",
   "execution_count": 10,
   "id": "21d544f4",
   "metadata": {},
   "outputs": [
    {
     "name": "stdout",
     "output_type": "stream",
     "text": [
      "[[1 2]\n",
      " [4 6]\n",
      " [5 2]]\n",
      "\n"
     ]
    },
    {
     "ename": "LinAlgError",
     "evalue": "Last 2 dimensions of the array must be square",
     "output_type": "error",
     "traceback": [
      "\u001b[0;31m---------------------------------------------------------------------------\u001b[0m",
      "\u001b[0;31mLinAlgError\u001b[0m                               Traceback (most recent call last)",
      "\u001b[0;32m/tmp/ipykernel_35/674270381.py\u001b[0m in \u001b[0;36m<module>\u001b[0;34m\u001b[0m\n\u001b[1;32m      4\u001b[0m \u001b[0mprint\u001b[0m\u001b[0;34m(\u001b[0m\u001b[0mmat\u001b[0m\u001b[0;34m)\u001b[0m\u001b[0;34m\u001b[0m\u001b[0;34m\u001b[0m\u001b[0m\n\u001b[1;32m      5\u001b[0m \u001b[0mprint\u001b[0m\u001b[0;34m(\u001b[0m\u001b[0;34m\"\"\u001b[0m\u001b[0;34m)\u001b[0m\u001b[0;34m\u001b[0m\u001b[0;34m\u001b[0m\u001b[0m\n\u001b[0;32m----> 6\u001b[0;31m \u001b[0mevalue\u001b[0m\u001b[0;34m,\u001b[0m \u001b[0mevect\u001b[0m \u001b[0;34m=\u001b[0m \u001b[0mnp\u001b[0m\u001b[0;34m.\u001b[0m\u001b[0mlinalg\u001b[0m\u001b[0;34m.\u001b[0m\u001b[0meig\u001b[0m\u001b[0;34m(\u001b[0m\u001b[0mmat\u001b[0m\u001b[0;34m)\u001b[0m\u001b[0;34m\u001b[0m\u001b[0;34m\u001b[0m\u001b[0m\n\u001b[0m\u001b[1;32m      7\u001b[0m \u001b[0;34m\u001b[0m\u001b[0m\n\u001b[1;32m      8\u001b[0m \u001b[0;31m# Eigenvalues of the said matrix\"\u001b[0m\u001b[0;34m\u001b[0m\u001b[0;34m\u001b[0m\u001b[0;34m\u001b[0m\u001b[0m\n",
      "\u001b[0;32m<__array_function__ internals>\u001b[0m in \u001b[0;36meig\u001b[0;34m(*args, **kwargs)\u001b[0m\n",
      "\u001b[0;32m/opt/conda/lib/python3.9/site-packages/numpy/linalg/linalg.py\u001b[0m in \u001b[0;36meig\u001b[0;34m(a)\u001b[0m\n\u001b[1;32m   1314\u001b[0m     \u001b[0ma\u001b[0m\u001b[0;34m,\u001b[0m \u001b[0mwrap\u001b[0m \u001b[0;34m=\u001b[0m \u001b[0m_makearray\u001b[0m\u001b[0;34m(\u001b[0m\u001b[0ma\u001b[0m\u001b[0;34m)\u001b[0m\u001b[0;34m\u001b[0m\u001b[0;34m\u001b[0m\u001b[0m\n\u001b[1;32m   1315\u001b[0m     \u001b[0m_assert_stacked_2d\u001b[0m\u001b[0;34m(\u001b[0m\u001b[0ma\u001b[0m\u001b[0;34m)\u001b[0m\u001b[0;34m\u001b[0m\u001b[0;34m\u001b[0m\u001b[0m\n\u001b[0;32m-> 1316\u001b[0;31m     \u001b[0m_assert_stacked_square\u001b[0m\u001b[0;34m(\u001b[0m\u001b[0ma\u001b[0m\u001b[0;34m)\u001b[0m\u001b[0;34m\u001b[0m\u001b[0;34m\u001b[0m\u001b[0m\n\u001b[0m\u001b[1;32m   1317\u001b[0m     \u001b[0m_assert_finite\u001b[0m\u001b[0;34m(\u001b[0m\u001b[0ma\u001b[0m\u001b[0;34m)\u001b[0m\u001b[0;34m\u001b[0m\u001b[0;34m\u001b[0m\u001b[0m\n\u001b[1;32m   1318\u001b[0m     \u001b[0mt\u001b[0m\u001b[0;34m,\u001b[0m \u001b[0mresult_t\u001b[0m \u001b[0;34m=\u001b[0m \u001b[0m_commonType\u001b[0m\u001b[0;34m(\u001b[0m\u001b[0ma\u001b[0m\u001b[0;34m)\u001b[0m\u001b[0;34m\u001b[0m\u001b[0;34m\u001b[0m\u001b[0m\n",
      "\u001b[0;32m/opt/conda/lib/python3.9/site-packages/numpy/linalg/linalg.py\u001b[0m in \u001b[0;36m_assert_stacked_square\u001b[0;34m(*arrays)\u001b[0m\n\u001b[1;32m    201\u001b[0m         \u001b[0mm\u001b[0m\u001b[0;34m,\u001b[0m \u001b[0mn\u001b[0m \u001b[0;34m=\u001b[0m \u001b[0ma\u001b[0m\u001b[0;34m.\u001b[0m\u001b[0mshape\u001b[0m\u001b[0;34m[\u001b[0m\u001b[0;34m-\u001b[0m\u001b[0;36m2\u001b[0m\u001b[0;34m:\u001b[0m\u001b[0;34m]\u001b[0m\u001b[0;34m\u001b[0m\u001b[0;34m\u001b[0m\u001b[0m\n\u001b[1;32m    202\u001b[0m         \u001b[0;32mif\u001b[0m \u001b[0mm\u001b[0m \u001b[0;34m!=\u001b[0m \u001b[0mn\u001b[0m\u001b[0;34m:\u001b[0m\u001b[0;34m\u001b[0m\u001b[0;34m\u001b[0m\u001b[0m\n\u001b[0;32m--> 203\u001b[0;31m             \u001b[0;32mraise\u001b[0m \u001b[0mLinAlgError\u001b[0m\u001b[0;34m(\u001b[0m\u001b[0;34m'Last 2 dimensions of the array must be square'\u001b[0m\u001b[0;34m)\u001b[0m\u001b[0;34m\u001b[0m\u001b[0;34m\u001b[0m\u001b[0m\n\u001b[0m\u001b[1;32m    204\u001b[0m \u001b[0;34m\u001b[0m\u001b[0m\n\u001b[1;32m    205\u001b[0m \u001b[0;32mdef\u001b[0m \u001b[0m_assert_finite\u001b[0m\u001b[0;34m(\u001b[0m\u001b[0;34m*\u001b[0m\u001b[0marrays\u001b[0m\u001b[0;34m)\u001b[0m\u001b[0;34m:\u001b[0m\u001b[0;34m\u001b[0m\u001b[0;34m\u001b[0m\u001b[0m\n",
      "\u001b[0;31mLinAlgError\u001b[0m: Last 2 dimensions of the array must be square"
     ]
    }
   ],
   "source": [
    "mat = np.mat(\"1 2 ;4  6;5  2\")\n",
    "  \n",
    "# Original matrix\n",
    "print(mat)\n",
    "print(\"\")\n",
    "evalue, evect = np.linalg.eig(mat)\n",
    "  \n",
    "# Eigenvalues of the said matrix\"\n",
    "print(evalue)\n",
    "print(\"\")\n",
    "  \n",
    "# Eigenvectors of the said matrix\n",
    "print(evect)"
   ]
  },
  {
   "cell_type": "markdown",
   "id": "6aebc36c",
   "metadata": {},
   "source": [
    "##### How to reslove It -\n",
    "Here Again we trying to get the \" Eigen Values and Eigen Vectors \" of the given Array but we failed to get it because it was not a \"Square Array\" so to get the \" Eigen Values and Eigen Vectors \" we Need to make it as square as shown in the above two examples."
   ]
  },
  {
   "cell_type": "markdown",
   "id": "2c15f248",
   "metadata": {},
   "source": [
    "`np.linalg.eig` is a very useful function to compute the `eigen` values and `eigen` Vectors for an square array and it is going to compute the results in a very less period of time."
   ]
  },
  {
   "cell_type": "code",
   "execution_count": null,
   "id": "43faa76f",
   "metadata": {
    "scrolled": true
   },
   "outputs": [
    {
     "data": {
      "application/javascript": [
       "window.require && require([\"base/js/namespace\"],function(Jupyter){Jupyter.notebook.save_checkpoint()})"
      ],
      "text/plain": [
       "<IPython.core.display.Javascript object>"
      ]
     },
     "metadata": {},
     "output_type": "display_data"
    }
   ],
   "source": [
    "jovian.commit()"
   ]
  },
  {
   "cell_type": "markdown",
   "id": "4be12149",
   "metadata": {},
   "source": [
    "## Function 3 - np.cumsum\n",
    "\n",
    "#### numpy.cumsum - It Gives the Commutative Sum of the Elements Along a Given Axis.\n",
    "*Syntax : numpy.cumsum(arr, axis=None, dtype=None, out=None)*\n",
    "\n",
    "\n",
    "*Parameters* :\n",
    "- *arr : [array_like] Array containing numbers whose cumulative sum is desired. If arr is not an array, a conversion is attempted.*\n",
    "\n",
    "- *axis : Axis along which the cumulative sum is computed. The default is to compute the sum of the flattened array.*\n",
    "\n",
    "- *dtype : Type of the returned array, as well as of the accumulator in which the elements are multiplied. If dtype is not specified, it defaults to the dtype of arr, unless arr has an integer dtype with a precision less than that of the default platform integer. In that case, the default platform integer is used instead.*\n",
    "\n",
    "- *out : [ndarray, optional] A location into which the result is stored.\n",
    "  -> If provided, it must have a shape that the inputs broadcast to.\n",
    "  -> If not provided or None, a freshly-allocated array is returned*\n",
    "  \n",
    "  \n",
    "*Return : A new array holding the result is returned unless out is specified, in which case it is returned.*"
   ]
  },
  {
   "cell_type": "code",
   "execution_count": 12,
   "id": "615e44af",
   "metadata": {},
   "outputs": [
    {
     "name": "stdout",
     "output_type": "stream",
     "text": [
      "Input  number :  10\n",
      "cumulative sum of input number :  [10]\n"
     ]
    }
   ],
   "source": [
    "# Example 1 - working\n",
    "\n",
    "Number = 10\n",
    "  \n",
    "print (\"Input  number : \", Number)\n",
    "    \n",
    "Result = np.cumsum(Number) \n",
    "print (\"cumulative sum of input number : \", Result) "
   ]
  },
  {
   "cell_type": "markdown",
   "id": "4378c074",
   "metadata": {},
   "source": [
    "In the Example above we are going to compute the \" Cumulative Sum \" of the Given number Using the function `np.cumsum` and print the result of the function, So as we did above, We have taken a number and store that in a variable called \" Number \" then we computed the \" Cumulative sum \" on that number and store that in the variable called \" Result \" and Print the Result."
   ]
  },
  {
   "cell_type": "code",
   "execution_count": 13,
   "id": "0572481d",
   "metadata": {},
   "outputs": [
    {
     "name": "stdout",
     "output_type": "stream",
     "text": [
      "Input array :  [[2 4 6]\n",
      " [1 3 5]]\n",
      "cumulative sum of array elements:  [ 2  6 12 13 16 21]\n"
     ]
    }
   ],
   "source": [
    "# Example 2 - working\n",
    "\n",
    "Numbers = np.array([[2, 4, 6], [1, 3, 5]])\n",
    "   \n",
    "print (\"Input array : \",Numbers) \n",
    "    \n",
    "Result = np.cumsum(Numbers) \n",
    "print (\"cumulative sum of array elements: \", Result) "
   ]
  },
  {
   "cell_type": "markdown",
   "id": "f0e7585f",
   "metadata": {},
   "source": [
    "Here we are going to compute the \" Cumulative Sum \" on an NumPy array and store the Result in the \"Result\" Variable and Print that Result. but here we see can that the Result is Computed in the single list of array elements."
   ]
  },
  {
   "cell_type": "code",
   "execution_count": 14,
   "id": "6157e04e",
   "metadata": {
    "scrolled": true
   },
   "outputs": [
    {
     "name": "stdout",
     "output_type": "stream",
     "text": [
      "Input array :  [[2 4 6]\n",
      " [1 3 5]]\n",
      "cumulative sum of array elements taking axis 1:  [[ 2  6 12]\n",
      " [ 1  4  9]]\n"
     ]
    }
   ],
   "source": [
    "# Example 3 - Working\n",
    "\n",
    "Numbers = np.array([[2, 4, 6], [1, 3, 5]])\n",
    "   \n",
    "print (\"Input array : \", Numbers) \n",
    "    \n",
    "Result = np.cumsum(Numbers, axis = 1) \n",
    "print (\"cumulative sum of array elements taking axis 1: \", Result)"
   ]
  },
  {
   "cell_type": "markdown",
   "id": "b793bb6f",
   "metadata": {},
   "source": [
    "In the Example above we have computed the results of NumPy Array by `np.cumsum` fuction but here we have given the \" axis = 1 \" so the results is going to be computed Column Wise. "
   ]
  },
  {
   "cell_type": "code",
   "execution_count": 15,
   "id": "42e4a0a4",
   "metadata": {},
   "outputs": [
    {
     "name": "stdout",
     "output_type": "stream",
     "text": [
      "Input array :  [[2 4 6]\n",
      " [1 3 5]]\n",
      "cumulative sum of array elements taking axis 1:  [[ 2  4  6]\n",
      " [ 3  7 11]]\n"
     ]
    }
   ],
   "source": [
    "# Example 4 - working\n",
    "\n",
    "Numbers = np.array([[2, 4, 6], [1, 3, 5]])\n",
    "   \n",
    "print (\"Input array : \", Numbers) \n",
    "    \n",
    "Result = np.cumsum(Numbers, axis = 0) \n",
    "print (\"cumulative sum of array elements taking axis 1: \", Result)"
   ]
  },
  {
   "cell_type": "markdown",
   "id": "e00ffa7d",
   "metadata": {},
   "source": [
    "Examples 4 Shows the Computation of `np.cumsum` Function on an NumPy array by keeping the \" axis = 0 \" which will compute the Result Row Wise."
   ]
  },
  {
   "cell_type": "markdown",
   "id": "14b9b118",
   "metadata": {},
   "source": [
    "##### Example 5 - Breaking\n"
   ]
  },
  {
   "cell_type": "code",
   "execution_count": 16,
   "id": "874efec5",
   "metadata": {},
   "outputs": [
    {
     "name": "stdout",
     "output_type": "stream",
     "text": [
      "Input array :  [list([2, 4, 6]) list([3, 5])]\n",
      "cumulative sum of array elements taking axis 1:  [list([2, 4, 6]) list([2, 4, 6, 3, 5])]\n"
     ]
    },
    {
     "name": "stderr",
     "output_type": "stream",
     "text": [
      "/tmp/ipykernel_35/3469378645.py:1: VisibleDeprecationWarning: Creating an ndarray from ragged nested sequences (which is a list-or-tuple of lists-or-tuples-or ndarrays with different lengths or shapes) is deprecated. If you meant to do this, you must specify 'dtype=object' when creating the ndarray.\n",
      "  Numbers = np.array([[2, 4, 6], [ 3, 5]])\n"
     ]
    }
   ],
   "source": [
    "Numbers = np.array([[2, 4, 6], [ 3, 5]])\n",
    "   \n",
    "print (\"Input array : \", Numbers) \n",
    "    \n",
    "Result = np.cumsum(Numbers, axis = 0) \n",
    "print (\"cumulative sum of array elements taking axis 1: \", Result)"
   ]
  },
  {
   "cell_type": "markdown",
   "id": "deabccfd",
   "metadata": {},
   "source": [
    "##### How to resolve it-\n",
    "As we can see in the above example we have given the Array of different lengths so the function `np.cumsum` does not able to compute the Cumulative Sum of the given array, So to perform this computation we need to take the Arrays of same length as we have taken in the above four Examples.\n"
   ]
  },
  {
   "cell_type": "markdown",
   "id": "0fa0a6fc",
   "metadata": {},
   "source": [
    "`numpy.cumsum` is a very useful function to compute the cumulative sum of given Arrays and it's very easy to use  and compute results in a very short time. "
   ]
  },
  {
   "cell_type": "code",
   "execution_count": 17,
   "id": "748e4b44",
   "metadata": {},
   "outputs": [
    {
     "data": {
      "application/javascript": [
       "window.require && require([\"base/js/namespace\"],function(Jupyter){Jupyter.notebook.save_checkpoint()})"
      ],
      "text/plain": [
       "<IPython.core.display.Javascript object>"
      ]
     },
     "metadata": {},
     "output_type": "display_data"
    },
    {
     "name": "stdout",
     "output_type": "stream",
     "text": [
      "[jovian] Updating notebook \"deepakkumawat2120/5-numpy-functions-you-might-not-know\" on https://jovian.ai\u001b[0m\n",
      "[jovian] Committed successfully! https://jovian.ai/deepakkumawat2120/5-numpy-functions-you-might-not-know\u001b[0m\n"
     ]
    },
    {
     "data": {
      "text/plain": [
       "'https://jovian.ai/deepakkumawat2120/5-numpy-functions-you-might-not-know'"
      ]
     },
     "execution_count": 17,
     "metadata": {},
     "output_type": "execute_result"
    }
   ],
   "source": [
    "jovian.commit()"
   ]
  },
  {
   "cell_type": "markdown",
   "id": "6d5f9a22",
   "metadata": {},
   "source": [
    "## Function 4 - numpy.cumprod\n",
    "\n",
    "#### numpy.cumprod - It Gives the Commutative Product of Element Along a Given Axis.\n",
    "\n",
    "*Syntax : numpy.cumprod(arr, axis=None, dtype=None, out=None)*\n",
    "\n",
    "*Parameters* :\n",
    "- *arr : [array_like] Array containing numbers whose cumulative product is desired. If arr is not an array, a conversion is attempted.*\n",
    "- *axis : Axis along which the cumulative product is computed. The default is to compute the product of the flattened array.*\n",
    "- *dtype : Type of the returned array, as well as of the accumulator in which the elements are multiplied. If dtype is not specified, it defaults to the dtype of arr, unless arr has an integer dtype with a precision less than that of the default platform integer. In that case, the default platform integer is used instead.*\n",
    "- *out : [ndarray, optional] A location into which the result is stored.\n",
    "  -> If provided, it must have a shape that the inputs broadcast to.\n",
    "  -> If not provided or None, a freshly-allocated array is returned.*\n",
    "  \n",
    "*Return : A new array holding the result is returned unless out is specified, in which case it is returned.*\n"
   ]
  },
  {
   "cell_type": "code",
   "execution_count": 18,
   "id": "11694dbd",
   "metadata": {},
   "outputs": [
    {
     "name": "stdout",
     "output_type": "stream",
     "text": [
      "Input  number :  10\n",
      "cumulative product of input number :  [10]\n"
     ]
    }
   ],
   "source": [
    "# Example 1 - working\n",
    "\n",
    "Number = 10\n",
    "  \n",
    "print (\"Input  number : \", Number)\n",
    "    \n",
    "Result = np.cumprod(Number) \n",
    "print (\"cumulative product of input number : \", Result) "
   ]
  },
  {
   "cell_type": "markdown",
   "id": "feb11a00",
   "metadata": {},
   "source": [
    "In the above Example We have taken a number and assign that number into a variable, then we have computed the `np.cumprod` funtion on that Variable which give us the \" Cumulative Product \" of that number."
   ]
  },
  {
   "cell_type": "code",
   "execution_count": 19,
   "id": "f6e31968",
   "metadata": {},
   "outputs": [
    {
     "name": "stdout",
     "output_type": "stream",
     "text": [
      "Input array :  [[2 4 6]\n",
      " [1 3 5]]\n",
      "cumulative product of array elements:  [  2   8  48  48 144 720]\n"
     ]
    }
   ],
   "source": [
    "# Example 2 - working\n",
    "\n",
    "Numbers = np.array([[2, 4, 6], [1, 3, 5]])\n",
    "   \n",
    "print (\"Input array : \", Numbers) \n",
    "    \n",
    "Result = np.cumprod(Numbers) \n",
    "print (\"cumulative product of array elements: \", Result) \n"
   ]
  },
  {
   "cell_type": "markdown",
   "id": "b3d7a41d",
   "metadata": {},
   "source": [
    "Here we are going to compute the \" Cumulative Product \" on an NumPy array and store the Result in the \"Result\" Variable and Print that Result. but here we can see that the Result is Computed in the single list of array elements."
   ]
  },
  {
   "cell_type": "code",
   "execution_count": 20,
   "id": "a22e684c",
   "metadata": {},
   "outputs": [
    {
     "name": "stdout",
     "output_type": "stream",
     "text": [
      "Input array :  [[2 4 6]\n",
      " [1 3 5]]\n",
      "cumulative product of array elements taking axis 1:  [[ 2  8 48]\n",
      " [ 1  3 15]]\n"
     ]
    }
   ],
   "source": [
    "# Example 3 - Workking\n",
    "\n",
    "Numbers = np.array([[2, 4, 6], [1, 3, 5]])\n",
    "   \n",
    "print (\"Input array : \", Numbers) \n",
    "    \n",
    "Result = np.cumprod(Numbers, axis = 1) \n",
    "print (\"cumulative product of array elements taking axis 1: \", Result)"
   ]
  },
  {
   "cell_type": "markdown",
   "id": "ec87f7fe",
   "metadata": {},
   "source": [
    "In the Example above we have computed the results of NumPy Array by `np.cumprod` fuction but here we have given the \" axis = 1 \" so the results is going to be computed Column Wise. and we can clearly see that."
   ]
  },
  {
   "cell_type": "code",
   "execution_count": 21,
   "id": "ad51c887",
   "metadata": {
    "scrolled": true
   },
   "outputs": [
    {
     "name": "stdout",
     "output_type": "stream",
     "text": [
      "Input array :  [[1 4 6]\n",
      " [1 3 5]]\n",
      "cumulative product of array elements taking axis 1:  [[ 1  4  6]\n",
      " [ 1 12 30]]\n"
     ]
    }
   ],
   "source": [
    "# Example 4 - Working\n",
    "\n",
    "Numbers = np.array([[1, 4, 6], [1, 3, 5]])\n",
    "   \n",
    "print (\"Input array : \", Numbers) \n",
    "    \n",
    "Result = np.cumprod(Numbers, axis = 0) \n",
    "print (\"cumulative product of array elements taking axis 1: \", Result)"
   ]
  },
  {
   "cell_type": "markdown",
   "id": "a4bd14f8",
   "metadata": {},
   "source": [
    "Examples 4 Shows the Computation of `np.cumprod` Function on an NumPy array by keeping the \" axis = 0 \" which will compute the Result Row Wise."
   ]
  },
  {
   "cell_type": "markdown",
   "id": "8f999969",
   "metadata": {},
   "source": [
    "##### Example 5 - Breaking"
   ]
  },
  {
   "cell_type": "code",
   "execution_count": 22,
   "id": "2bfa678b",
   "metadata": {},
   "outputs": [
    {
     "name": "stdout",
     "output_type": "stream",
     "text": [
      "Input array :  [list([4, 6]) list([1, 3, 5])]\n"
     ]
    },
    {
     "name": "stderr",
     "output_type": "stream",
     "text": [
      "/tmp/ipykernel_35/4123106660.py:1: VisibleDeprecationWarning: Creating an ndarray from ragged nested sequences (which is a list-or-tuple of lists-or-tuples-or ndarrays with different lengths or shapes) is deprecated. If you meant to do this, you must specify 'dtype=object' when creating the ndarray.\n",
      "  Numbers = np.array([[4, 6], [1, 3, 5]])\n"
     ]
    },
    {
     "ename": "TypeError",
     "evalue": "can't multiply sequence by non-int of type 'list'",
     "output_type": "error",
     "traceback": [
      "\u001b[0;31m---------------------------------------------------------------------------\u001b[0m",
      "\u001b[0;31mTypeError\u001b[0m                                 Traceback (most recent call last)",
      "\u001b[0;32m/opt/conda/lib/python3.9/site-packages/numpy/core/fromnumeric.py\u001b[0m in \u001b[0;36m_wrapfunc\u001b[0;34m(obj, method, *args, **kwds)\u001b[0m\n\u001b[1;32m     57\u001b[0m     \u001b[0;32mtry\u001b[0m\u001b[0;34m:\u001b[0m\u001b[0;34m\u001b[0m\u001b[0;34m\u001b[0m\u001b[0m\n\u001b[0;32m---> 58\u001b[0;31m         \u001b[0;32mreturn\u001b[0m \u001b[0mbound\u001b[0m\u001b[0;34m(\u001b[0m\u001b[0;34m*\u001b[0m\u001b[0margs\u001b[0m\u001b[0;34m,\u001b[0m \u001b[0;34m**\u001b[0m\u001b[0mkwds\u001b[0m\u001b[0;34m)\u001b[0m\u001b[0;34m\u001b[0m\u001b[0;34m\u001b[0m\u001b[0m\n\u001b[0m\u001b[1;32m     59\u001b[0m     \u001b[0;32mexcept\u001b[0m \u001b[0mTypeError\u001b[0m\u001b[0;34m:\u001b[0m\u001b[0;34m\u001b[0m\u001b[0;34m\u001b[0m\u001b[0m\n",
      "\u001b[0;31mTypeError\u001b[0m: can't multiply sequence by non-int of type 'list'",
      "\nDuring handling of the above exception, another exception occurred:\n",
      "\u001b[0;31mTypeError\u001b[0m                                 Traceback (most recent call last)",
      "\u001b[0;32m/tmp/ipykernel_35/4123106660.py\u001b[0m in \u001b[0;36m<module>\u001b[0;34m\u001b[0m\n\u001b[1;32m      3\u001b[0m \u001b[0mprint\u001b[0m \u001b[0;34m(\u001b[0m\u001b[0;34m\"Input array : \"\u001b[0m\u001b[0;34m,\u001b[0m \u001b[0mNumbers\u001b[0m\u001b[0;34m)\u001b[0m\u001b[0;34m\u001b[0m\u001b[0;34m\u001b[0m\u001b[0m\n\u001b[1;32m      4\u001b[0m \u001b[0;34m\u001b[0m\u001b[0m\n\u001b[0;32m----> 5\u001b[0;31m \u001b[0mResult\u001b[0m \u001b[0;34m=\u001b[0m \u001b[0mnp\u001b[0m\u001b[0;34m.\u001b[0m\u001b[0mcumprod\u001b[0m\u001b[0;34m(\u001b[0m\u001b[0mNumbers\u001b[0m\u001b[0;34m)\u001b[0m\u001b[0;34m\u001b[0m\u001b[0;34m\u001b[0m\u001b[0m\n\u001b[0m\u001b[1;32m      6\u001b[0m \u001b[0mprint\u001b[0m \u001b[0;34m(\u001b[0m\u001b[0;34m\"cumulative product of array elements taking axis 1: \"\u001b[0m\u001b[0;34m,\u001b[0m \u001b[0mResult\u001b[0m\u001b[0;34m)\u001b[0m\u001b[0;34m\u001b[0m\u001b[0;34m\u001b[0m\u001b[0m\n",
      "\u001b[0;32m<__array_function__ internals>\u001b[0m in \u001b[0;36mcumprod\u001b[0;34m(*args, **kwargs)\u001b[0m\n",
      "\u001b[0;32m/opt/conda/lib/python3.9/site-packages/numpy/core/fromnumeric.py\u001b[0m in \u001b[0;36mcumprod\u001b[0;34m(a, axis, dtype, out)\u001b[0m\n\u001b[1;32m   3097\u001b[0m \u001b[0;34m\u001b[0m\u001b[0m\n\u001b[1;32m   3098\u001b[0m     \"\"\"\n\u001b[0;32m-> 3099\u001b[0;31m     \u001b[0;32mreturn\u001b[0m \u001b[0m_wrapfunc\u001b[0m\u001b[0;34m(\u001b[0m\u001b[0ma\u001b[0m\u001b[0;34m,\u001b[0m \u001b[0;34m'cumprod'\u001b[0m\u001b[0;34m,\u001b[0m \u001b[0maxis\u001b[0m\u001b[0;34m=\u001b[0m\u001b[0maxis\u001b[0m\u001b[0;34m,\u001b[0m \u001b[0mdtype\u001b[0m\u001b[0;34m=\u001b[0m\u001b[0mdtype\u001b[0m\u001b[0;34m,\u001b[0m \u001b[0mout\u001b[0m\u001b[0;34m=\u001b[0m\u001b[0mout\u001b[0m\u001b[0;34m)\u001b[0m\u001b[0;34m\u001b[0m\u001b[0;34m\u001b[0m\u001b[0m\n\u001b[0m\u001b[1;32m   3100\u001b[0m \u001b[0;34m\u001b[0m\u001b[0m\n\u001b[1;32m   3101\u001b[0m \u001b[0;34m\u001b[0m\u001b[0m\n",
      "\u001b[0;32m/opt/conda/lib/python3.9/site-packages/numpy/core/fromnumeric.py\u001b[0m in \u001b[0;36m_wrapfunc\u001b[0;34m(obj, method, *args, **kwds)\u001b[0m\n\u001b[1;32m     65\u001b[0m         \u001b[0;31m# Call _wrapit from within the except clause to ensure a potential\u001b[0m\u001b[0;34m\u001b[0m\u001b[0;34m\u001b[0m\u001b[0;34m\u001b[0m\u001b[0m\n\u001b[1;32m     66\u001b[0m         \u001b[0;31m# exception has a traceback chain.\u001b[0m\u001b[0;34m\u001b[0m\u001b[0;34m\u001b[0m\u001b[0;34m\u001b[0m\u001b[0m\n\u001b[0;32m---> 67\u001b[0;31m         \u001b[0;32mreturn\u001b[0m \u001b[0m_wrapit\u001b[0m\u001b[0;34m(\u001b[0m\u001b[0mobj\u001b[0m\u001b[0;34m,\u001b[0m \u001b[0mmethod\u001b[0m\u001b[0;34m,\u001b[0m \u001b[0;34m*\u001b[0m\u001b[0margs\u001b[0m\u001b[0;34m,\u001b[0m \u001b[0;34m**\u001b[0m\u001b[0mkwds\u001b[0m\u001b[0;34m)\u001b[0m\u001b[0;34m\u001b[0m\u001b[0;34m\u001b[0m\u001b[0m\n\u001b[0m\u001b[1;32m     68\u001b[0m \u001b[0;34m\u001b[0m\u001b[0m\n\u001b[1;32m     69\u001b[0m \u001b[0;34m\u001b[0m\u001b[0m\n",
      "\u001b[0;32m/opt/conda/lib/python3.9/site-packages/numpy/core/fromnumeric.py\u001b[0m in \u001b[0;36m_wrapit\u001b[0;34m(obj, method, *args, **kwds)\u001b[0m\n\u001b[1;32m     42\u001b[0m     \u001b[0;32mexcept\u001b[0m \u001b[0mAttributeError\u001b[0m\u001b[0;34m:\u001b[0m\u001b[0;34m\u001b[0m\u001b[0;34m\u001b[0m\u001b[0m\n\u001b[1;32m     43\u001b[0m         \u001b[0mwrap\u001b[0m \u001b[0;34m=\u001b[0m \u001b[0;32mNone\u001b[0m\u001b[0;34m\u001b[0m\u001b[0;34m\u001b[0m\u001b[0m\n\u001b[0;32m---> 44\u001b[0;31m     \u001b[0mresult\u001b[0m \u001b[0;34m=\u001b[0m \u001b[0mgetattr\u001b[0m\u001b[0;34m(\u001b[0m\u001b[0masarray\u001b[0m\u001b[0;34m(\u001b[0m\u001b[0mobj\u001b[0m\u001b[0;34m)\u001b[0m\u001b[0;34m,\u001b[0m \u001b[0mmethod\u001b[0m\u001b[0;34m)\u001b[0m\u001b[0;34m(\u001b[0m\u001b[0;34m*\u001b[0m\u001b[0margs\u001b[0m\u001b[0;34m,\u001b[0m \u001b[0;34m**\u001b[0m\u001b[0mkwds\u001b[0m\u001b[0;34m)\u001b[0m\u001b[0;34m\u001b[0m\u001b[0;34m\u001b[0m\u001b[0m\n\u001b[0m\u001b[1;32m     45\u001b[0m     \u001b[0;32mif\u001b[0m \u001b[0mwrap\u001b[0m\u001b[0;34m:\u001b[0m\u001b[0;34m\u001b[0m\u001b[0;34m\u001b[0m\u001b[0m\n\u001b[1;32m     46\u001b[0m         \u001b[0;32mif\u001b[0m \u001b[0;32mnot\u001b[0m \u001b[0misinstance\u001b[0m\u001b[0;34m(\u001b[0m\u001b[0mresult\u001b[0m\u001b[0;34m,\u001b[0m \u001b[0mmu\u001b[0m\u001b[0;34m.\u001b[0m\u001b[0mndarray\u001b[0m\u001b[0;34m)\u001b[0m\u001b[0;34m:\u001b[0m\u001b[0;34m\u001b[0m\u001b[0;34m\u001b[0m\u001b[0m\n",
      "\u001b[0;31mTypeError\u001b[0m: can't multiply sequence by non-int of type 'list'"
     ]
    }
   ],
   "source": [
    "Numbers = np.array([[4, 6], [1, 3, 5]])\n",
    "   \n",
    "print (\"Input array : \", Numbers) \n",
    "    \n",
    "Result = np.cumprod(Numbers) \n",
    "print (\"cumulative product of array elements taking axis 1: \", Result)\n"
   ]
  },
  {
   "cell_type": "markdown",
   "id": "08009fec",
   "metadata": {},
   "source": [
    "##### How To Resolve it-\n",
    "\n",
    "As we can see in the above example we have given the Array of different lengths so the function `np.cumprod` does not able to compute the Cumulative Product of the given array, So to perform this computation we need to take the Arrays of same length as we have taken in the above four Examples.\n"
   ]
  },
  {
   "cell_type": "markdown",
   "id": "6970f298",
   "metadata": {},
   "source": [
    "When we need to compute the \" Cumulative Product \" of any NumPy Array we can use `np.cumprod` function as it very useful function to compute the Cumulative Product."
   ]
  },
  {
   "cell_type": "code",
   "execution_count": 23,
   "id": "7ede0f7f",
   "metadata": {},
   "outputs": [
    {
     "data": {
      "application/javascript": [
       "window.require && require([\"base/js/namespace\"],function(Jupyter){Jupyter.notebook.save_checkpoint()})"
      ],
      "text/plain": [
       "<IPython.core.display.Javascript object>"
      ]
     },
     "metadata": {},
     "output_type": "display_data"
    },
    {
     "name": "stdout",
     "output_type": "stream",
     "text": [
      "[jovian] Updating notebook \"deepakkumawat2120/5-numpy-functions-you-might-not-know\" on https://jovian.ai\u001b[0m\n",
      "[jovian] Committed successfully! https://jovian.ai/deepakkumawat2120/5-numpy-functions-you-might-not-know\u001b[0m\n"
     ]
    },
    {
     "data": {
      "text/plain": [
       "'https://jovian.ai/deepakkumawat2120/5-numpy-functions-you-might-not-know'"
      ]
     },
     "execution_count": 23,
     "metadata": {},
     "output_type": "execute_result"
    }
   ],
   "source": [
    "jovian.commit()"
   ]
  },
  {
   "cell_type": "markdown",
   "id": "cf329374",
   "metadata": {},
   "source": [
    "## Function 5 - numpy.matmul\n",
    "\n",
    "#### numpy.matmul - It Gives the Matrix Product of Two Arrays.\n",
    "\n",
    "![](https://help.scilab.org/docs/6.0.2/pt_BR/MATMUL.png)\n",
    "\n",
    "***Parameters : x1, x2 :array_like***\n",
    "- *Input arrays, scalars not allowed.*\n",
    "\n",
    "- ___out___ : ***ndarray,optional***\n",
    "> *A location into which the result is stored. If provided, it must have a shape that matches the signature (n,k),(k,m)->(n,m). If not provided or None, a freshly-allocated array is returned.*\n",
    "\n",
    "***Returns : y : ndarray***\n",
    "- *The matrix product of the inputs. This is a scalar only when both x1, x2 are 1-d vectors.*\n",
    "\n",
    "***Raises : ValueError***\n",
    "- *If the last dimension of x1 is not the same size as the second-to-last dimension of x2.*\n",
    "- *If a scalar value is passed in.*\n",
    "\n",
    "\n"
   ]
  },
  {
   "cell_type": "code",
   "execution_count": 24,
   "id": "69406b5e",
   "metadata": {},
   "outputs": [
    {
     "name": "stdout",
     "output_type": "stream",
     "text": [
      "Input Matrix:\n",
      " [[1 0]\n",
      " [0 1]] \n",
      " [[4 1]\n",
      " [2 2]]\n",
      "\n",
      "The Multiplication of the two Matrix is:\n",
      " [[4 1]\n",
      " [2 2]]\n"
     ]
    }
   ],
   "source": [
    "# Example 1 - working\n",
    "\n",
    "Matrix_a = np.array([[1, 0],\n",
    "                    [0, 1]])\n",
    "Matrix_b = np.array([[4, 1],\n",
    "                    [2, 2]])\n",
    "print(\"Input Matrix:\\n\", Matrix_a,'\\n',Matrix_b)\n",
    "print('')\n",
    "\n",
    "Results = np.matmul(Matrix_a, Matrix_b)\n",
    "\n",
    "print('The Multiplication of the two Matrix is:\\n', Results)"
   ]
  },
  {
   "cell_type": "markdown",
   "id": "71686885",
   "metadata": {},
   "source": [
    "In the above example we have taken  Two NumPy array and Assign Them into the Variable \" Matrix_a and Matrix_b \" and then we have computed the Matrix Multiplication using `np.matmul` funtion and store that into Results Variable and Print the values inside the Results."
   ]
  },
  {
   "cell_type": "code",
   "execution_count": 25,
   "id": "2f1309a9",
   "metadata": {},
   "outputs": [
    {
     "name": "stdout",
     "output_type": "stream",
     "text": [
      "Input Matrix:\n",
      " [[1 0]\n",
      " [0 1]] , [1 2]\n",
      "\n",
      "The Multiplicaton of the two Matrix is:\n",
      " [1 2]\n"
     ]
    }
   ],
   "source": [
    "# Example 2 - working\n",
    "\n",
    "Matrix_a = np.array([[1, 0],\n",
    "                    [0, 1]])\n",
    "Matrix_b = np.array([1, 2])\n",
    "\n",
    "print('Input Matrix:\\n', Matrix_a,',',Matrix_b)\n",
    "print('')\n",
    "\n",
    "Result = np.matmul(Matrix_a, Matrix_b)\n",
    "\n",
    "print('The Multiplicaton of the two Matrix is:\\n', Result)"
   ]
  },
  {
   "cell_type": "markdown",
   "id": "a0f44e45",
   "metadata": {},
   "source": [
    "Here we have Computed the Result of Multiplication of a 2-D and 1-D array and The result is as usual as we got in the Example 1 and we have print the result as seen above."
   ]
  },
  {
   "cell_type": "markdown",
   "id": "5b790d57",
   "metadata": {},
   "source": [
    "##### Example 3 - breaking"
   ]
  },
  {
   "cell_type": "code",
   "execution_count": 26,
   "id": "fd8f9007",
   "metadata": {},
   "outputs": [
    {
     "ename": "ValueError",
     "evalue": "matmul: Input operand 1 does not have enough dimensions (has 0, gufunc core with signature (n?,k),(k,m?)->(n?,m?) requires 1)",
     "output_type": "error",
     "traceback": [
      "\u001b[0;31m---------------------------------------------------------------------------\u001b[0m",
      "\u001b[0;31mValueError\u001b[0m                                Traceback (most recent call last)",
      "\u001b[0;32m/tmp/ipykernel_35/2857049224.py\u001b[0m in \u001b[0;36m<module>\u001b[0;34m\u001b[0m\n\u001b[1;32m      1\u001b[0m \u001b[0ma\u001b[0m \u001b[0;34m=\u001b[0m \u001b[0;34m[\u001b[0m\u001b[0;36m1\u001b[0m\u001b[0;34m,\u001b[0m\u001b[0;36m2\u001b[0m\u001b[0;34m]\u001b[0m\u001b[0;34m\u001b[0m\u001b[0;34m\u001b[0m\u001b[0m\n\u001b[1;32m      2\u001b[0m \u001b[0mb\u001b[0m \u001b[0;34m=\u001b[0m \u001b[0;36m3\u001b[0m\u001b[0;34m\u001b[0m\u001b[0;34m\u001b[0m\u001b[0m\n\u001b[0;32m----> 3\u001b[0;31m \u001b[0mnp\u001b[0m\u001b[0;34m.\u001b[0m\u001b[0mmatmul\u001b[0m\u001b[0;34m(\u001b[0m\u001b[0ma\u001b[0m\u001b[0;34m,\u001b[0m\u001b[0mb\u001b[0m\u001b[0;34m)\u001b[0m\u001b[0;34m\u001b[0m\u001b[0;34m\u001b[0m\u001b[0m\n\u001b[0m",
      "\u001b[0;31mValueError\u001b[0m: matmul: Input operand 1 does not have enough dimensions (has 0, gufunc core with signature (n?,k),(k,m?)->(n?,m?) requires 1)"
     ]
    }
   ],
   "source": [
    "a = [1,2]\n",
    "b = 3\n",
    "np.matmul(a,b)"
   ]
  },
  {
   "cell_type": "markdown",
   "id": "ad5cba5f",
   "metadata": {},
   "source": [
    "##### How to Resolve it-\n",
    "Here in the Above example we are not able to get the multiplication using `np.matmul` because we are not able to compute the Scalar Multiplication so it Raises an Error, and to make it work we need to add an element to it."
   ]
  },
  {
   "cell_type": "markdown",
   "id": "d3d1312d",
   "metadata": {},
   "source": [
    "`np.matmul` is a very useful function to compute the matrix multiplication of an array."
   ]
  },
  {
   "cell_type": "code",
   "execution_count": 27,
   "id": "c7d9dbdb",
   "metadata": {},
   "outputs": [
    {
     "data": {
      "application/javascript": [
       "window.require && require([\"base/js/namespace\"],function(Jupyter){Jupyter.notebook.save_checkpoint()})"
      ],
      "text/plain": [
       "<IPython.core.display.Javascript object>"
      ]
     },
     "metadata": {},
     "output_type": "display_data"
    },
    {
     "name": "stdout",
     "output_type": "stream",
     "text": [
      "[jovian] Updating notebook \"deepakkumawat2120/5-numpy-functions-you-might-not-know\" on https://jovian.ai\u001b[0m\n",
      "[jovian] Committed successfully! https://jovian.ai/deepakkumawat2120/5-numpy-functions-you-might-not-know\u001b[0m\n"
     ]
    },
    {
     "data": {
      "text/plain": [
       "'https://jovian.ai/deepakkumawat2120/5-numpy-functions-you-might-not-know'"
      ]
     },
     "execution_count": 27,
     "metadata": {},
     "output_type": "execute_result"
    }
   ],
   "source": [
    "jovian.commit()"
   ]
  },
  {
   "cell_type": "markdown",
   "id": "00de1447",
   "metadata": {},
   "source": [
    "## Conclusion\n",
    "\n",
    "In this notebook we saw 5 of the most used functions in the popular library numpy . There are a lot more important functions like this in the numpy module. To know more about numpy check the numpy docs(link given below). This library is widely used in the field of Data Science along with other libraries like pandas, pytorch etc. This library is a lot faster than normal pyhon list objects therefore this can be used in programs and mathematical functions too, to speed up the process.\n",
    "\n"
   ]
  },
  {
   "cell_type": "markdown",
   "id": "683e52eb",
   "metadata": {},
   "source": [
    "## Reference Links\n",
    "Provide links to your references and other interesting articles about Numpy arrays:\n",
    "* Numpy official tutorial : https://numpy.org/doc/stable/user/quickstart.html\n",
    "* Geeks for Geeks Website : https://www.geeksforgeeks.org/python-numpy/\n",
    "* Jovian :  https://jovian.ai/learn/zero-to-data-analyst-bootcamp/lesson/numerical-computing-with-numpy"
   ]
  },
  {
   "cell_type": "code",
   "execution_count": null,
   "id": "328d27b2",
   "metadata": {
    "scrolled": false
   },
   "outputs": [
    {
     "data": {
      "application/javascript": [
       "window.require && require([\"base/js/namespace\"],function(Jupyter){Jupyter.notebook.save_checkpoint()})"
      ],
      "text/plain": [
       "<IPython.core.display.Javascript object>"
      ]
     },
     "metadata": {},
     "output_type": "display_data"
    }
   ],
   "source": [
    "jovian.commit()"
   ]
  },
  {
   "cell_type": "code",
   "execution_count": null,
   "id": "f079efd6",
   "metadata": {},
   "outputs": [],
   "source": []
  }
 ],
 "metadata": {
  "kernelspec": {
   "display_name": "Python 3 (ipykernel)",
   "language": "python",
   "name": "python3"
  },
  "language_info": {
   "codemirror_mode": {
    "name": "ipython",
    "version": 3
   },
   "file_extension": ".py",
   "mimetype": "text/x-python",
   "name": "python",
   "nbconvert_exporter": "python",
   "pygments_lexer": "ipython3",
   "version": "3.9.6"
  }
 },
 "nbformat": 4,
 "nbformat_minor": 5
}
